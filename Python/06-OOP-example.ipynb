{
 "cells": [
  {
   "cell_type": "markdown",
   "id": "56eb4746-1407-4f48-a84b-7ee2d8f165ea",
   "metadata": {},
   "source": [
    "# Risk Analyzer\n",
    "\n",
    "class RA:\n",
    "    - attrs:\n",
    "        - dataset \n",
    "        - parameter_1\n",
    "        - parameter_2\n",
    "    - methods\n",
    "        - load_data\n",
    "        - clean_data\n",
    "            - get_account number\n",
    "            - get_remaining_date\n",
    "            - .\n",
    "            - .\n",
    "        - aggregation\n",
    "            - *\n",
    "            - *\n",
    "        - plot \n",
    "            - plot_1 \n",
    "            - plot_2 "
   ]
  },
  {
   "cell_type": "code",
   "execution_count": 20,
   "id": "2f15fc0a-0c24-4d85-ae3b-2f588e2a6926",
   "metadata": {},
   "outputs": [],
   "source": [
    "class Animal:\n",
    "    def __init__(self,name, sound):\n",
    "        self.name = name\n",
    "        self.sound = sound\n",
    "    def say(self):\n",
    "        print(f'{self.name}: {self.sound}')\n",
    "    def walk(self,steps):\n",
    "        print(f'{self.name} is walking {steps} steps.')\n",
    "    def __repr__(self):\n",
    "        return f\"Animal: {self.name}\""
   ]
  },
  {
   "cell_type": "code",
   "execution_count": 19,
   "id": "63e7ebad-bd77-405b-bd7e-c93bd933875e",
   "metadata": {},
   "outputs": [
    {
     "name": "stdout",
     "output_type": "stream",
     "text": [
      "<__main__.Animal object at 0x10df97040>\n"
     ]
    },
    {
     "data": {
      "text/plain": [
       "<__main__.Animal at 0x10df97040>"
      ]
     },
     "execution_count": 19,
     "metadata": {},
     "output_type": "execute_result"
    }
   ],
   "source": [
    "cat = Animal('cat', 'Meow')\n",
    "# cat.say()\n",
    "# cat.walk(10)\n",
    "print(cat)\n",
    "cat"
   ]
  },
  {
   "cell_type": "code",
   "execution_count": 22,
   "id": "87bb772a-663b-4a74-8139-b3029b4352ee",
   "metadata": {},
   "outputs": [
    {
     "data": {
      "text/plain": [
       "Animal: cat"
      ]
     },
     "execution_count": 22,
     "metadata": {},
     "output_type": "execute_result"
    }
   ],
   "source": [
    "cat = Animal('cat', 'Meow')\n",
    "# cat.say()\n",
    "# cat.walk(10)\n",
    "# print(cat)\n",
    "cat"
   ]
  },
  {
   "cell_type": "code",
   "execution_count": 34,
   "id": "aef0d16d-97a8-4b18-991f-9f494e9aaaaf",
   "metadata": {},
   "outputs": [
    {
     "name": "stdout",
     "output_type": "stream",
     "text": [
      "dog: bark\n"
     ]
    },
    {
     "data": {
      "text/plain": [
       "{'name': 'dog', 'sound': 'bark'}"
      ]
     },
     "execution_count": 34,
     "metadata": {},
     "output_type": "execute_result"
    }
   ],
   "source": [
    "dog = Animal('dog','bark')\n",
    "dog.say()\n",
    "# callable(doag.sayb), callable(dog.name)\n",
    "# dog.nam /eb\n",
    "dog.__dict__"
   ]
  },
  {
   "cell_type": "code",
   "execution_count": 27,
   "id": "81b3d105-061f-47a2-ae24-5eb9b139e305",
   "metadata": {},
   "outputs": [],
   "source": [
    "import pandas as pd\n",
    "class HomeAnlayzer:\n",
    "    def __init__(self, csv_path):\n",
    "        self.csv_path = csv_path\n",
    "        self.df = self.load_data()\n",
    "    def load_data(self):\n",
    "        df = pd.read_csv(self.csv_path)\n",
    "        return df\n",
    "    def mean(self):\n",
    "        return self.df.mean()\n",
    "    def __repr__(self):\n",
    "        return \"HA\" #self.df.__repr__()\n",
    "        \n",
    "        \n",
    "        "
   ]
  },
  {
   "cell_type": "code",
   "execution_count": 28,
   "id": "b0435880-e437-403c-b271-6aecd4f27418",
   "metadata": {},
   "outputs": [],
   "source": [
    "ha = HomeAnlayzer(csv_path='/Users/mehdi/Documents/git/Tasks/geophy_challenge/Housing_New_York_Units_by_Building.csv')"
   ]
  },
  {
   "cell_type": "code",
   "execution_count": 31,
   "id": "755ed0d2-cc24-4aff-a95a-5bd0bea55fd5",
   "metadata": {},
   "outputs": [
    {
     "data": {
      "text/plain": [
       "{'csv_path': '/Users/mehdi/Documents/git/Tasks/geophy_challenge/Housing_New_York_Units_by_Building.csv',\n",
       " 'df':       Project ID                                Project Name  \\\n",
       " 0          65554                             BRIDGE ROCKAWAY   \n",
       " 1          69099              VOA. 1746 ANDREWS AVENUE SOUTH   \n",
       " 2          69567  ASLAND CAPITAL. 1940 TURNBULL AVE. PL SARA   \n",
       " 3          72295                                CONFIDENTIAL   \n",
       " 4          72179                                CONFIDENTIAL   \n",
       " ...          ...                                         ...   \n",
       " 5793       55697                                CONFIDENTIAL   \n",
       " 5794       55773                                CONFIDENTIAL   \n",
       " 5795       57341                                CONFIDENTIAL   \n",
       " 5796       55647                                CONFIDENTIAL   \n",
       " 5797       55759                                CONFIDENTIAL   \n",
       " \n",
       "      Project Start Date Project Completion Date  Building ID Number  \\\n",
       " 0            03/31/2022                     NaN    1003153.0    805   \n",
       " 1            03/31/2022                     NaN    1002488.0   1746   \n",
       " 2            03/31/2022                     NaN    1003176.0   1940   \n",
       " 3            03/31/2022              03/31/2022          NaN   ----   \n",
       " 4            03/25/2022              03/25/2022          NaN   ----   \n",
       " ...                 ...                     ...          ...    ...   \n",
       " 5793         01/14/2014              01/14/2014          NaN   ----   \n",
       " 5794         01/10/2014              01/10/2014          NaN   ----   \n",
       " 5795         01/10/2014              01/10/2014          NaN   ----   \n",
       " 5796         01/07/2014              01/07/2014          NaN   ----   \n",
       " 5797         01/03/2014              01/03/2014          NaN   ----   \n",
       " \n",
       "                     Street        Borough  Postcode           BBL  ...  \\\n",
       " 0          ROCKAWAY AVENUE       Brooklyn   11212.0  3.036030e+09  ...   \n",
       " 1     ANDREWS AVENUE SOUTH          Bronx   10453.0  2.028780e+09  ...   \n",
       " 2          TURNBULL AVENUE          Bronx   10473.0  2.036720e+09  ...   \n",
       " 3                     ----          Bronx       NaN           NaN  ...   \n",
       " 4                     ----       Brooklyn       NaN           NaN  ...   \n",
       " ...                    ...            ...       ...           ...  ...   \n",
       " 5793                  ----       Brooklyn       NaN           NaN  ...   \n",
       " 5794                  ----  Staten Island       NaN           NaN  ...   \n",
       " 5795                  ----  Staten Island       NaN           NaN  ...   \n",
       " 5796                  ----       Brooklyn       NaN           NaN  ...   \n",
       " 5797                  ----         Queens       NaN           NaN  ...   \n",
       " \n",
       "       2-BR Units 3-BR Units  4-BR Units 5-BR Units 6-BR+ Units  \\\n",
       " 0             46         25           0          0           0   \n",
       " 1              1          0           0          0           0   \n",
       " 2              1          0           0          0           0   \n",
       " 3              1          0           0          0           0   \n",
       " 4              0          1           0          0           0   \n",
       " ...          ...        ...         ...        ...         ...   \n",
       " 5793           0          0           0          0           0   \n",
       " 5794           0          0           0          0           0   \n",
       " 5795           0          0           0          0           0   \n",
       " 5796           0          0           0          0           0   \n",
       " 5797           0          0           0          0           0   \n",
       " \n",
       "       Unknown-BR Units  Counted Rental Units  Counted Homeownership Units  \\\n",
       " 0                    0                   173                            0   \n",
       " 1                    0                   118                            0   \n",
       " 2                    0                   154                            0   \n",
       " 3                    0                     0                            1   \n",
       " 4                    0                     0                            1   \n",
       " ...                ...                   ...                          ...   \n",
       " 5793                 1                     0                            1   \n",
       " 5794                 1                     0                            1   \n",
       " 5795                 1                     0                            1   \n",
       " 5796                 1                     0                            1   \n",
       " 5797                 1                     0                            1   \n",
       " \n",
       "       All Counted Units Total Units  \n",
       " 0                   173         174  \n",
       " 1                   118         118  \n",
       " 2                   154         154  \n",
       " 3                     1           1  \n",
       " 4                     1           1  \n",
       " ...                 ...         ...  \n",
       " 5793                  1           1  \n",
       " 5794                  1           1  \n",
       " 5795                  1           1  \n",
       " 5796                  1           1  \n",
       " 5797                  1           1  \n",
       " \n",
       " [5798 rows x 41 columns]}"
      ]
     },
     "execution_count": 31,
     "metadata": {},
     "output_type": "execute_result"
    }
   ],
   "source": [
    "ha.__dict__"
   ]
  },
  {
   "cell_type": "code",
   "execution_count": 30,
   "id": "00ab2228-1351-4166-8b3a-5c1caf1fc17f",
   "metadata": {},
   "outputs": [
    {
     "name": "stderr",
     "output_type": "stream",
     "text": [
      "<ipython-input-27-006da33c67a4>:10: FutureWarning: Dropping of nuisance columns in DataFrame reductions (with 'numeric_only=None') is deprecated; in a future version this will raise TypeError.  Select only valid columns before calling the reduction.\n",
      "  return self.df.mean()\n"
     ]
    },
    {
     "data": {
      "text/plain": [
       "Project ID                     6.241414e+04\n",
       "Building ID                    5.452599e+05\n",
       "Postcode                       1.078402e+04\n",
       "BBL                            2.450753e+09\n",
       "BIN                            2.365136e+06\n",
       "Council District               2.603285e+01\n",
       "Latitude                       4.074266e+01\n",
       "Longitude                     -7.391960e+01\n",
       "Latitude (Internal)            4.074324e+01\n",
       "Longitude (Internal)          -7.391943e+01\n",
       "Extremely Low Income Units     5.777854e+00\n",
       "Very Low Income Units          1.054812e+01\n",
       "Low Income Units               1.323508e+01\n",
       "Moderate Income Units          2.167816e+00\n",
       "Middle Income Units            3.640911e+00\n",
       "Other Income Units             1.543636e-01\n",
       "Studio Units                   5.328044e+00\n",
       "1-BR Units                     1.260090e+01\n",
       "2-BR Units                     1.215160e+01\n",
       "3-BR Units                     4.511038e+00\n",
       "4-BR Units                     3.487409e-01\n",
       "5-BR Units                     1.776475e-02\n",
       "6-BR+ Units                    1.000345e-02\n",
       "Unknown-BR Units               5.560538e-01\n",
       "Counted Rental Units           2.621404e+01\n",
       "Counted Homeownership Units    9.310107e+00\n",
       "All Counted Units              3.552415e+01\n",
       "Total Units                    4.645033e+01\n",
       "dtype: float64"
      ]
     },
     "execution_count": 30,
     "metadata": {},
     "output_type": "execute_result"
    }
   ],
   "source": [
    "ha.mean()"
   ]
  }
 ],
 "metadata": {
  "kernelspec": {
   "display_name": "Python 3",
   "language": "python",
   "name": "python3"
  },
  "language_info": {
   "codemirror_mode": {
    "name": "ipython",
    "version": 3
   },
   "file_extension": ".py",
   "mimetype": "text/x-python",
   "name": "python",
   "nbconvert_exporter": "python",
   "pygments_lexer": "ipython3",
   "version": "3.9.4"
  }
 },
 "nbformat": 4,
 "nbformat_minor": 5
}
